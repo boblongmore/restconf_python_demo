{
 "cells": [
  {
   "cell_type": "code",
   "execution_count": 5,
   "metadata": {},
   "outputs": [],
   "source": [
    "from restconf_api import (\n",
    "    create_session,\n",
    "    load_inventory,\n",
    "    render_payload,\n",
    "    put_request,\n",
    "    save_config,\n",
    "    get_request,\n",
    ")"
   ]
  },
  {
   "cell_type": "code",
   "execution_count": 6,
   "metadata": {},
   "outputs": [
    {
     "name": "stdout",
     "output_type": "stream",
     "text": [
      "loading inventory...\n",
      "Inventory successfully loaded...\n"
     ]
    }
   ],
   "source": [
    "# 1. load our inventory\n",
    "inventory = load_inventory(\"inventory/hosts.yml\")"
   ]
  },
  {
   "cell_type": "code",
   "execution_count": 7,
   "metadata": {},
   "outputs": [],
   "source": [
    "# 2. map our target router\n",
    "router_1 = inventory[\"dev-r1\"]"
   ]
  },
  {
   "cell_type": "code",
   "execution_count": 8,
   "metadata": {},
   "outputs": [
    {
     "name": "stdout",
     "output_type": "stream",
     "text": [
      "Creating Session Object...\n"
     ]
    }
   ],
   "source": [
    "# 3.  create a session\n",
    "session = create_session(router_1[\"username\"], router_1[\"password\"])"
   ]
  },
  {
   "cell_type": "code",
   "execution_count": 9,
   "metadata": {},
   "outputs": [],
   "source": [
    "# 4. create variable for loopback0 data\n",
    "loop0 = [\n",
    "    interface\n",
    "    for interface in router_1[\"interface\"]\n",
    "    if interface[\"name\"] == \"Loopback0\"\n",
    "][0]"
   ]
  },
  {
   "cell_type": "code",
   "execution_count": 10,
   "metadata": {},
   "outputs": [
    {
     "name": "stdout",
     "output_type": "stream",
     "text": [
      "Rendering payload...\n"
     ]
    }
   ],
   "source": [
    "# 5.  Render the template\n",
    "payload = render_payload(loop0, \"interface.j2\")"
   ]
  },
  {
   "cell_type": "code",
   "execution_count": 11,
   "metadata": {},
   "outputs": [],
   "source": [
    "# 6. create variable for the rest endpoint\n",
    "endpoint = f\"restconf/data/ietf-interfaces:interfaces/interface=Loopback0\""
   ]
  },
  {
   "cell_type": "code",
   "execution_count": 12,
   "metadata": {},
   "outputs": [
    {
     "name": "stdout",
     "output_type": "stream",
     "text": [
      "Building _url...\n",
      "Making PUT request to restconf/data/ietf-interfaces:interfaces/interface=Loopback0...\n",
      "<Response [204]>\n"
     ]
    }
   ],
   "source": [
    "# 7. make the put request using helper function\n",
    "results = put_request(router_1[\"host\"], session, endpoint, payload)\n",
    "print(results)"
   ]
  },
  {
   "cell_type": "code",
   "execution_count": null,
   "metadata": {},
   "outputs": [
    {
     "name": "stdout",
     "output_type": "stream",
     "text": [
      "Building _url...\n",
      "Making POST request to restconf/operations/cisco-ia:save-config/...\n"
     ]
    }
   ],
   "source": [
    "# 8. Save our config\n",
    "saved = save_config(router_1[\"host\"], session)\n",
    "if saved:\n",
    "    print(\"Successfully saved configuration...\")\n",
    "else:\n",
    "    print(\"Failed to save configuration...\")"
   ]
  },
  {
   "cell_type": "code",
   "execution_count": null,
   "metadata": {},
   "outputs": [],
   "source": [
    "# 9. Get Interface\n",
    "endpoint = \"restconf/data/ietf-interfaces:interfaces\n",
    "interface_results = get_request(router_1[\"host\"], se\n",
    "# Save to file for reference\n",
    "with open(\"loopback0.yml\", \"w\") as file:\n",
    "    import yaml\n",
    "    file.write(yaml.safe_dump(interface_results))"
   ]
  },
  {
   "cell_type": "code",
   "execution_count": null,
   "metadata": {},
   "outputs": [],
   "source": []
  }
 ],
 "metadata": {
  "kernelspec": {
   "display_name": "Python 3",
   "language": "python",
   "name": "python3"
  },
  "language_info": {
   "codemirror_mode": {
    "name": "ipython",
    "version": 3
   },
   "file_extension": ".py",
   "mimetype": "text/x-python",
   "name": "python",
   "nbconvert_exporter": "python",
   "pygments_lexer": "ipython3",
   "version": "3.8.2"
  }
 },
 "nbformat": 4,
 "nbformat_minor": 4
}
